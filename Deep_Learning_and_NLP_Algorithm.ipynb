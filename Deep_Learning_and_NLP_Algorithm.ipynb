{
  "nbformat": 4,
  "nbformat_minor": 0,
  "metadata": {
    "colab": {
      "provenance": [],
      "authorship_tag": "ABX9TyMQPyLbWyv6qKRqt8hg/Ltz",
      "include_colab_link": true
    },
    "kernelspec": {
      "name": "python3",
      "display_name": "Python 3"
    },
    "language_info": {
      "name": "python"
    }
  },
  "cells": [
    {
      "cell_type": "markdown",
      "metadata": {
        "id": "view-in-github",
        "colab_type": "text"
      },
      "source": [
        "<a href=\"https://colab.research.google.com/github/Jatingpt/Deep-Learning-and-NLP-Algorithm-Task/blob/main/Deep_Learning_and_NLP_Algorithm.ipynb\" target=\"_parent\"><img src=\"https://colab.research.google.com/assets/colab-badge.svg\" alt=\"Open In Colab\"/></a>"
      ]
    },
    {
      "cell_type": "code",
      "execution_count": 6,
      "metadata": {
        "id": "RMbH9tWCXVYz",
        "outputId": "6b3b7896-a4e2-44d7-8668-592ab10ab4c5",
        "colab": {
          "base_uri": "https://localhost:8080/"
        }
      },
      "outputs": [
        {
          "output_type": "stream",
          "name": "stderr",
          "text": [
            "[nltk_data] Downloading package punkt_tab to /root/nltk_data...\n",
            "[nltk_data]   Unzipping tokenizers/punkt_tab.zip.\n"
          ]
        },
        {
          "output_type": "execute_result",
          "data": {
            "text/plain": [
              "True"
            ]
          },
          "metadata": {},
          "execution_count": 6
        }
      ],
      "source": [
        "import nltk\n",
        "nltk.download('punkt_tab')\n"
      ]
    },
    {
      "cell_type": "code",
      "source": [
        "from nltk.tokenize import word_tokenize"
      ],
      "metadata": {
        "id": "zT6cY0OMZBsK"
      },
      "execution_count": 7,
      "outputs": []
    },
    {
      "cell_type": "code",
      "source": [
        "var = \"Hey this is jatin and i am going to crack the interview as soon as possible.\"\n",
        "w = word_tokenize(var)\n",
        "w"
      ],
      "metadata": {
        "id": "ikwVIbnjYaBF",
        "outputId": "507a06c1-d800-46c1-fb6a-4f52ba74588b",
        "colab": {
          "base_uri": "https://localhost:8080/"
        }
      },
      "execution_count": 8,
      "outputs": [
        {
          "output_type": "execute_result",
          "data": {
            "text/plain": [
              "['Hey',\n",
              " 'this',\n",
              " 'is',\n",
              " 'jatin',\n",
              " 'and',\n",
              " 'i',\n",
              " 'am',\n",
              " 'going',\n",
              " 'to',\n",
              " 'crack',\n",
              " 'the',\n",
              " 'interview',\n",
              " 'as',\n",
              " 'soon',\n",
              " 'as',\n",
              " 'possible',\n",
              " '.']"
            ]
          },
          "metadata": {},
          "execution_count": 8
        }
      ]
    },
    {
      "cell_type": "code",
      "source": [
        "from nltk.tokenize import sent_tokenize\n",
        "var = \"Hey, what is the time today? he is a good person. He will go for spa.\"\n",
        "s = sent_tokenize(var)\n",
        "s"
      ],
      "metadata": {
        "id": "JKjmphQfZHoW",
        "outputId": "d6404246-a23f-4103-80e1-a27133b6b611",
        "colab": {
          "base_uri": "https://localhost:8080/"
        }
      },
      "execution_count": 9,
      "outputs": [
        {
          "output_type": "execute_result",
          "data": {
            "text/plain": [
              "['Hey, what is the time today?', 'he is a good person.', 'He will go for spa.']"
            ]
          },
          "metadata": {},
          "execution_count": 9
        }
      ]
    },
    {
      "cell_type": "code",
      "source": [
        "for i in s:\n",
        "  print(i)"
      ],
      "metadata": {
        "id": "RmeWDgdRe_3L",
        "outputId": "d9e481a9-e679-43e2-f986-1da4de6f18f7",
        "colab": {
          "base_uri": "https://localhost:8080/"
        }
      },
      "execution_count": 10,
      "outputs": [
        {
          "output_type": "stream",
          "name": "stdout",
          "text": [
            "Hey, what is the time today?\n",
            "he is a good person.\n",
            "He will go for spa.\n"
          ]
        }
      ]
    },
    {
      "cell_type": "code",
      "source": [
        "from string import punctuation\n",
        "punc = list(punctuation)\n",
        "for i in punctuation:\n",
        "  if i not in punctuation:\n",
        "    print(i)"
      ],
      "metadata": {
        "id": "a4NYXIEefDUG"
      },
      "execution_count": 11,
      "outputs": []
    },
    {
      "cell_type": "code",
      "source": [],
      "metadata": {
        "id": "n37Pc9KZhh84"
      },
      "execution_count": null,
      "outputs": []
    }
  ]
}